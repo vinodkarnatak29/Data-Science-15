{
 "cells": [
  {
   "cell_type": "code",
   "execution_count": 15,
   "metadata": {},
   "outputs": [
    {
     "name": "stdout",
     "output_type": "stream",
     "text": [
      "Standard deviation of household rent is $367.99\n"
     ]
    }
   ],
   "source": [
    "#Problem 1. You survey households in your area to find the average rent they are paying. Find the standard deviation from the following data: $1550, $1700, $900, $850, $1000, $950.\n",
    "\n",
    "# import Statistics module\n",
    "import statistics as stat \n",
    "\n",
    "#Data\n",
    "rent_list =[1550, 1700, 900, 850, 1000, 950]\n",
    "\n",
    "rent_stdev= stat.stdev(rent_list) # call stdev function from statistics module\n",
    "\n",
    "#Standard deviation for House Hold Rent is\n",
    "standardDeviation = round(rent_stdev,2) # print values till 2 points after decimal\n",
    "\n",
    "print(\"Standard deviation of household rent is $\"+str(standardDeviation))"
   ]
  },
  {
   "cell_type": "code",
   "execution_count": 16,
   "metadata": {},
   "outputs": [
    {
     "name": "stdout",
     "output_type": "stream",
     "text": [
      "Variance  for trees in California is $6219.9\n"
     ]
    }
   ],
   "source": [
    "#Problem 2. Find the variance for the following set of data representing trees in California (heights in feet): 3, 21, 98, 203, 17, 9\n",
    "\n",
    "# input Data\n",
    "tree_list =[3, 21, 98, 203, 17, 9]\n",
    "\n",
    "# call variance function from statistics module\n",
    "tree_variance= stat.variance(tree_list) \n",
    "\n",
    "result = round(tree_variance,2)\n",
    "print(\"Variance  for trees in California is $\" +str(result))\n"
   ]
  },
  {
   "cell_type": "code",
   "execution_count": 17,
   "metadata": {},
   "outputs": [
    {
     "data": {
      "text/html": [
       "<div>\n",
       "<style scoped>\n",
       "    .dataframe tbody tr th:only-of-type {\n",
       "        vertical-align: middle;\n",
       "    }\n",
       "\n",
       "    .dataframe tbody tr th {\n",
       "        vertical-align: top;\n",
       "    }\n",
       "\n",
       "    .dataframe thead th {\n",
       "        text-align: right;\n",
       "    }\n",
       "</style>\n",
       "<table border=\"1\" class=\"dataframe\">\n",
       "  <thead>\n",
       "    <tr style=\"text-align: right;\">\n",
       "      <th></th>\n",
       "      <th>failed_subject</th>\n",
       "      <th>probabilities_of_student_failed</th>\n",
       "    </tr>\n",
       "  </thead>\n",
       "  <tbody>\n",
       "    <tr>\n",
       "      <th>0</th>\n",
       "      <td>0</td>\n",
       "      <td>0.80</td>\n",
       "    </tr>\n",
       "    <tr>\n",
       "      <th>1</th>\n",
       "      <td>1</td>\n",
       "      <td>0.10</td>\n",
       "    </tr>\n",
       "    <tr>\n",
       "      <th>2</th>\n",
       "      <td>2</td>\n",
       "      <td>0.07</td>\n",
       "    </tr>\n",
       "    <tr>\n",
       "      <th>3</th>\n",
       "      <td>3</td>\n",
       "      <td>0.03</td>\n",
       "    </tr>\n",
       "  </tbody>\n",
       "</table>\n",
       "</div>"
      ],
      "text/plain": [
       "   failed_subject  probabilities_of_student_failed\n",
       "0               0                             0.80\n",
       "1               1                             0.10\n",
       "2               2                             0.07\n",
       "3               3                             0.03"
      ]
     },
     "execution_count": 17,
     "metadata": {},
     "output_type": "execute_result"
    }
   ],
   "source": [
    "#Problem 3. In a class on 100 students, 80 students passed in all subjects, 10 failed in one subject, 7 failed in two subjects and 3 failed in three subjects. Find the probability distribution of the variable for number of subjects a student from the given class has failed in.\n",
    "\n",
    "#import Required Libraries.\n",
    "import pandas as pd\n",
    "\n",
    "#probabilites distributions\n",
    "zero_sub_failed=80/100\n",
    "one_sub_failed= 10/100\n",
    "two_sub_failed=7/100\n",
    "three_sub_failed=3/100\n",
    "\n",
    "#dataframe\n",
    "prob_df =pd.DataFrame({'failed_subject':[0,1,2,3],'probabilities_of_student_failed':[zero_sub_failed,one_sub_failed,two_sub_failed,three_sub_failed]})\n",
    "\n",
    "#probabilities distributions\n",
    "prob_df"
   ]
  },
  {
   "cell_type": "code",
   "execution_count": null,
   "metadata": {},
   "outputs": [],
   "source": []
  }
 ],
 "metadata": {
  "kernelspec": {
   "display_name": "Python 3",
   "language": "python",
   "name": "python3"
  },
  "language_info": {
   "codemirror_mode": {
    "name": "ipython",
    "version": 3
   },
   "file_extension": ".py",
   "mimetype": "text/x-python",
   "name": "python",
   "nbconvert_exporter": "python",
   "pygments_lexer": "ipython3",
   "version": "3.6.5"
  }
 },
 "nbformat": 4,
 "nbformat_minor": 2
}
